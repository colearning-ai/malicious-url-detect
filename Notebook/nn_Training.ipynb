{
 "cells": [
  {
   "cell_type": "code",
   "execution_count": 2,
   "metadata": {},
   "outputs": [
    {
     "name": "stderr",
     "output_type": "stream",
     "text": [
      "Using TensorFlow backend.\n"
     ]
    }
   ],
   "source": [
    "import os\n",
    "import pandas as pd\n",
    "import tensorflow as ts\n",
    "import numpy as np\n",
    "from sklearn.preprocessing import LabelEncoder\n",
    "from keras.utils.np_utils import to_categorical\n",
    "from sklearn.model_selection import train_test_split\n",
    "from sklearn.metrics import accuracy_score,f1_score,precision_score,recall_score\n",
    "from sklearn.preprocessing import MinMaxScaler\n",
    "from keras.utils import np_utils\n",
    "from keras import backend as K\n",
    "import pickle"
   ]
  },
  {
   "cell_type": "code",
   "execution_count": 3,
   "metadata": {},
   "outputs": [],
   "source": [
    "os.chdir(\"../\")\n",
    "os.chdir(\"FinalDataset\")"
   ]
  },
  {
   "cell_type": "code",
   "execution_count": 4,
   "metadata": {},
   "outputs": [],
   "source": [
    "data = pd.read_csv(\"feature.csv\")"
   ]
  },
  {
   "cell_type": "code",
   "execution_count": 5,
   "metadata": {},
   "outputs": [
    {
     "data": {
      "text/html": [
       "<div>\n",
       "<style scoped>\n",
       "    .dataframe tbody tr th:only-of-type {\n",
       "        vertical-align: middle;\n",
       "    }\n",
       "\n",
       "    .dataframe tbody tr th {\n",
       "        vertical-align: top;\n",
       "    }\n",
       "\n",
       "    .dataframe thead th {\n",
       "        text-align: right;\n",
       "    }\n",
       "</style>\n",
       "<table border=\"1\" class=\"dataframe\">\n",
       "  <thead>\n",
       "    <tr style=\"text-align: right;\">\n",
       "      <th></th>\n",
       "      <th>Unnamed: 0</th>\n",
       "      <th>File</th>\n",
       "      <th>bodyLength</th>\n",
       "      <th>bscr</th>\n",
       "      <th>dse</th>\n",
       "      <th>dsr</th>\n",
       "      <th>entropy</th>\n",
       "      <th>hasHttp</th>\n",
       "      <th>hasHttps</th>\n",
       "      <th>has_ip</th>\n",
       "      <th>...</th>\n",
       "      <th>numParams</th>\n",
       "      <th>numTitles</th>\n",
       "      <th>num_%20</th>\n",
       "      <th>num_@</th>\n",
       "      <th>sbr</th>\n",
       "      <th>scriptLength</th>\n",
       "      <th>specialChars</th>\n",
       "      <th>sscr</th>\n",
       "      <th>urlIsLive</th>\n",
       "      <th>urlLength</th>\n",
       "    </tr>\n",
       "  </thead>\n",
       "  <tbody>\n",
       "    <tr>\n",
       "      <td>0</td>\n",
       "      <td>0</td>\n",
       "      <td>spam_dataset</td>\n",
       "      <td>31</td>\n",
       "      <td>0.064516</td>\n",
       "      <td>0</td>\n",
       "      <td>0</td>\n",
       "      <td>-4.708307</td>\n",
       "      <td>True</td>\n",
       "      <td>False</td>\n",
       "      <td>0</td>\n",
       "      <td>...</td>\n",
       "      <td>0</td>\n",
       "      <td>0</td>\n",
       "      <td>0</td>\n",
       "      <td>0</td>\n",
       "      <td>0.000000</td>\n",
       "      <td>0</td>\n",
       "      <td>2</td>\n",
       "      <td>0.000000</td>\n",
       "      <td>False</td>\n",
       "      <td>81</td>\n",
       "    </tr>\n",
       "    <tr>\n",
       "      <td>1</td>\n",
       "      <td>1</td>\n",
       "      <td>spam_dataset</td>\n",
       "      <td>64790</td>\n",
       "      <td>0.306050</td>\n",
       "      <td>0</td>\n",
       "      <td>0</td>\n",
       "      <td>-4.576882</td>\n",
       "      <td>True</td>\n",
       "      <td>False</td>\n",
       "      <td>0</td>\n",
       "      <td>...</td>\n",
       "      <td>0</td>\n",
       "      <td>19</td>\n",
       "      <td>0</td>\n",
       "      <td>0</td>\n",
       "      <td>0.923800</td>\n",
       "      <td>59853</td>\n",
       "      <td>19829</td>\n",
       "      <td>3.018458</td>\n",
       "      <td>False</td>\n",
       "      <td>58</td>\n",
       "    </tr>\n",
       "    <tr>\n",
       "      <td>2</td>\n",
       "      <td>2</td>\n",
       "      <td>spam_dataset</td>\n",
       "      <td>757</td>\n",
       "      <td>0.195509</td>\n",
       "      <td>0</td>\n",
       "      <td>0</td>\n",
       "      <td>-4.205536</td>\n",
       "      <td>True</td>\n",
       "      <td>False</td>\n",
       "      <td>0</td>\n",
       "      <td>...</td>\n",
       "      <td>0</td>\n",
       "      <td>1</td>\n",
       "      <td>0</td>\n",
       "      <td>0</td>\n",
       "      <td>0.000000</td>\n",
       "      <td>0</td>\n",
       "      <td>148</td>\n",
       "      <td>0.000000</td>\n",
       "      <td>False</td>\n",
       "      <td>46</td>\n",
       "    </tr>\n",
       "    <tr>\n",
       "      <td>3</td>\n",
       "      <td>3</td>\n",
       "      <td>spam_dataset</td>\n",
       "      <td>266310</td>\n",
       "      <td>0.230915</td>\n",
       "      <td>0</td>\n",
       "      <td>0</td>\n",
       "      <td>-4.550931</td>\n",
       "      <td>True</td>\n",
       "      <td>False</td>\n",
       "      <td>0</td>\n",
       "      <td>...</td>\n",
       "      <td>0</td>\n",
       "      <td>648</td>\n",
       "      <td>0</td>\n",
       "      <td>0</td>\n",
       "      <td>0.312647</td>\n",
       "      <td>83261</td>\n",
       "      <td>61495</td>\n",
       "      <td>1.353947</td>\n",
       "      <td>False</td>\n",
       "      <td>52</td>\n",
       "    </tr>\n",
       "    <tr>\n",
       "      <td>4</td>\n",
       "      <td>4</td>\n",
       "      <td>spam_dataset</td>\n",
       "      <td>40</td>\n",
       "      <td>0.200000</td>\n",
       "      <td>0</td>\n",
       "      <td>0</td>\n",
       "      <td>-4.689336</td>\n",
       "      <td>True</td>\n",
       "      <td>False</td>\n",
       "      <td>0</td>\n",
       "      <td>...</td>\n",
       "      <td>2</td>\n",
       "      <td>1</td>\n",
       "      <td>0</td>\n",
       "      <td>0</td>\n",
       "      <td>0.000000</td>\n",
       "      <td>0</td>\n",
       "      <td>8</td>\n",
       "      <td>0.000000</td>\n",
       "      <td>False</td>\n",
       "      <td>83</td>\n",
       "    </tr>\n",
       "  </tbody>\n",
       "</table>\n",
       "<p>5 rows × 23 columns</p>\n",
       "</div>"
      ],
      "text/plain": [
       "   Unnamed: 0          File  bodyLength      bscr  dse  dsr   entropy  \\\n",
       "0           0  spam_dataset          31  0.064516    0    0 -4.708307   \n",
       "1           1  spam_dataset       64790  0.306050    0    0 -4.576882   \n",
       "2           2  spam_dataset         757  0.195509    0    0 -4.205536   \n",
       "3           3  spam_dataset      266310  0.230915    0    0 -4.550931   \n",
       "4           4  spam_dataset          40  0.200000    0    0 -4.689336   \n",
       "\n",
       "   hasHttp  hasHttps  has_ip  ...  numParams  numTitles  num_%20  num_@  \\\n",
       "0     True     False       0  ...          0          0        0      0   \n",
       "1     True     False       0  ...          0         19        0      0   \n",
       "2     True     False       0  ...          0          1        0      0   \n",
       "3     True     False       0  ...          0        648        0      0   \n",
       "4     True     False       0  ...          2          1        0      0   \n",
       "\n",
       "        sbr  scriptLength  specialChars      sscr  urlIsLive  urlLength  \n",
       "0  0.000000             0             2  0.000000      False         81  \n",
       "1  0.923800         59853         19829  3.018458      False         58  \n",
       "2  0.000000             0           148  0.000000      False         46  \n",
       "3  0.312647         83261         61495  1.353947      False         52  \n",
       "4  0.000000             0             8  0.000000      False         83  \n",
       "\n",
       "[5 rows x 23 columns]"
      ]
     },
     "execution_count": 5,
     "metadata": {},
     "output_type": "execute_result"
    }
   ],
   "source": [
    "data.head()"
   ]
  },
  {
   "cell_type": "code",
   "execution_count": 6,
   "metadata": {},
   "outputs": [
    {
     "data": {
      "text/plain": [
       "{'Benign_list_big_final',\n",
       " 'Defacement',\n",
       " 'Malware_dataset',\n",
       " 'phishing_dataset',\n",
       " 'spam_dataset'}"
      ]
     },
     "execution_count": 6,
     "metadata": {},
     "output_type": "execute_result"
    }
   ],
   "source": [
    "set(data['File'])"
   ]
  },
  {
   "cell_type": "code",
   "execution_count": 7,
   "metadata": {},
   "outputs": [],
   "source": [
    "data.replace(\"Benign_list_big_final\",\"Benign\",inplace=True)\n",
    "data.replace(\"Malware_dataset\",\"Malware\",inplace=True)\n",
    "data.replace(\"phishing_dataset\",\"Phishing\",inplace=True)\n",
    "data.replace(\"spam_dataset\",\"Spam\",inplace=True)"
   ]
  },
  {
   "cell_type": "code",
   "execution_count": 8,
   "metadata": {},
   "outputs": [],
   "source": [
    "data.drop(columns='Unnamed: 0',inplace=True)\n",
    "data.replace(True,1,inplace = True)\n",
    "data.replace(False,0,inplace = True)\n",
    "y = data[\"File\"]"
   ]
  },
  {
   "cell_type": "code",
   "execution_count": 9,
   "metadata": {},
   "outputs": [],
   "source": [
    "data = data.drop(columns = \"File\")"
   ]
  },
  {
   "cell_type": "code",
   "execution_count": 10,
   "metadata": {},
   "outputs": [],
   "source": [
    "encoder = LabelEncoder()\n",
    "encoder.fit(y)\n",
    "Y = encoder.transform(y)"
   ]
  },
  {
   "cell_type": "code",
   "execution_count": 11,
   "metadata": {},
   "outputs": [],
   "source": [
    "scaler = MinMaxScaler(feature_range=(0, 1))\n",
    "X = scaler.fit_transform(data)\n",
    "X = pd.DataFrame(X)"
   ]
  },
  {
   "cell_type": "code",
   "execution_count": 12,
   "metadata": {},
   "outputs": [],
   "source": [
    "from keras.models import Sequential\n",
    "from keras.layers import LSTM, Dense, Dropout, Masking, Embedding\n",
    "\n",
    "input_dim = len(data.columns)\n",
    "model = Sequential()\n",
    "model.add(Dense(256, input_dim = input_dim , activation = 'relu'))\n",
    "model.add(Dense(128, activation = 'relu'))\n",
    "model.add(Dense(64, activation = 'relu'))\n",
    "model.add(Dense(32, activation = 'relu'))\n",
    "model.add(Dense(16, activation = 'relu'))\n",
    "model.add(Dense(5, activation = 'softmax'))\n",
    "\n",
    "model.compile(loss = 'categorical_crossentropy' , optimizer = 'adam' , metrics = ['accuracy'] )"
   ]
  },
  {
   "cell_type": "code",
   "execution_count": 13,
   "metadata": {},
   "outputs": [],
   "source": [
    "X_train, X_test, y_train, y_test = train_test_split(X, Y, test_size=0.25, random_state=42)"
   ]
  },
  {
   "cell_type": "code",
   "execution_count": 14,
   "metadata": {},
   "outputs": [
    {
     "name": "stdout",
     "output_type": "stream",
     "text": [
      "Train on 28628 samples, validate on 12270 samples\n",
      "Epoch 1/50\n",
      "28628/28628 [==============================] - 3s 98us/step - loss: 1.2577 - accuracy: 0.4623 - val_loss: 1.0429 - val_accuracy: 0.5860\n",
      "Epoch 2/50\n",
      "28628/28628 [==============================] - 1s 46us/step - loss: 0.9776 - accuracy: 0.6083 - val_loss: 0.9176 - val_accuracy: 0.6402\n",
      "Epoch 3/50\n",
      "28628/28628 [==============================] - 1s 48us/step - loss: 0.8707 - accuracy: 0.6543 - val_loss: 0.8195 - val_accuracy: 0.6738\n",
      "Epoch 4/50\n",
      "28628/28628 [==============================] - 1s 47us/step - loss: 0.7861 - accuracy: 0.6887 - val_loss: 0.7510 - val_accuracy: 0.7094\n",
      "Epoch 5/50\n",
      "28628/28628 [==============================] - 1s 48us/step - loss: 0.7348 - accuracy: 0.7091 - val_loss: 0.7086 - val_accuracy: 0.7208\n",
      "Epoch 6/50\n",
      "28628/28628 [==============================] - 2s 53us/step - loss: 0.6819 - accuracy: 0.7348 - val_loss: 0.6937 - val_accuracy: 0.7256\n",
      "Epoch 7/50\n",
      "28628/28628 [==============================] - 1s 41us/step - loss: 0.6572 - accuracy: 0.7427 - val_loss: 0.6436 - val_accuracy: 0.7513\n",
      "Epoch 8/50\n",
      "28628/28628 [==============================] - 1s 43us/step - loss: 0.6328 - accuracy: 0.7533 - val_loss: 0.6780 - val_accuracy: 0.7485\n",
      "Epoch 9/50\n",
      "28628/28628 [==============================] - 1s 45us/step - loss: 0.6208 - accuracy: 0.7578 - val_loss: 0.6514 - val_accuracy: 0.7376\n",
      "Epoch 10/50\n",
      "28628/28628 [==============================] - 1s 43us/step - loss: 0.6047 - accuracy: 0.7637 - val_loss: 0.5940 - val_accuracy: 0.7662\n",
      "Epoch 11/50\n",
      "28628/28628 [==============================] - 1s 43us/step - loss: 0.5887 - accuracy: 0.7707 - val_loss: 0.5802 - val_accuracy: 0.7774\n",
      "Epoch 12/50\n",
      "28628/28628 [==============================] - 1s 46us/step - loss: 0.5756 - accuracy: 0.7794 - val_loss: 0.5718 - val_accuracy: 0.7805\n",
      "Epoch 13/50\n",
      "28628/28628 [==============================] - 1s 44us/step - loss: 0.5722 - accuracy: 0.7802 - val_loss: 0.5633 - val_accuracy: 0.7821\n",
      "Epoch 14/50\n",
      "28628/28628 [==============================] - 1s 48us/step - loss: 0.5552 - accuracy: 0.7848 - val_loss: 0.5719 - val_accuracy: 0.7772\n",
      "Epoch 15/50\n",
      "28628/28628 [==============================] - 1s 47us/step - loss: 0.5528 - accuracy: 0.7868 - val_loss: 0.5855 - val_accuracy: 0.7659\n",
      "Epoch 16/50\n",
      "28628/28628 [==============================] - 2s 57us/step - loss: 0.5469 - accuracy: 0.7892 - val_loss: 0.5775 - val_accuracy: 0.7826\n",
      "Epoch 17/50\n",
      "28628/28628 [==============================] - 2s 56us/step - loss: 0.5386 - accuracy: 0.7917 - val_loss: 0.5550 - val_accuracy: 0.7848\n",
      "Epoch 18/50\n",
      "28628/28628 [==============================] - 1s 45us/step - loss: 0.5327 - accuracy: 0.7945 - val_loss: 0.5375 - val_accuracy: 0.7922\n",
      "Epoch 19/50\n",
      "28628/28628 [==============================] - 1s 46us/step - loss: 0.5240 - accuracy: 0.7948 - val_loss: 0.5275 - val_accuracy: 0.7945\n",
      "Epoch 20/50\n",
      "28628/28628 [==============================] - 2s 56us/step - loss: 0.5173 - accuracy: 0.7992 - val_loss: 0.5208 - val_accuracy: 0.7946\n",
      "Epoch 21/50\n",
      "28628/28628 [==============================] - 1s 48us/step - loss: 0.5181 - accuracy: 0.7977 - val_loss: 0.5168 - val_accuracy: 0.8002\n",
      "Epoch 22/50\n",
      "28628/28628 [==============================] - 2s 59us/step - loss: 0.5045 - accuracy: 0.8023 - val_loss: 0.5206 - val_accuracy: 0.7985\n",
      "Epoch 23/50\n",
      "28628/28628 [==============================] - 1s 46us/step - loss: 0.5081 - accuracy: 0.8020 - val_loss: 0.5229 - val_accuracy: 0.7986\n",
      "Epoch 24/50\n",
      "28628/28628 [==============================] - 1s 46us/step - loss: 0.4986 - accuracy: 0.8037 - val_loss: 0.5174 - val_accuracy: 0.8026\n",
      "Epoch 25/50\n",
      "28628/28628 [==============================] - 1s 43us/step - loss: 0.4953 - accuracy: 0.8047 - val_loss: 0.5062 - val_accuracy: 0.8065\n",
      "Epoch 26/50\n",
      "28628/28628 [==============================] - 1s 40us/step - loss: 0.4899 - accuracy: 0.8071 - val_loss: 0.5210 - val_accuracy: 0.7928\n",
      "Epoch 27/50\n",
      "28628/28628 [==============================] - 1s 44us/step - loss: 0.4856 - accuracy: 0.8089 - val_loss: 0.5318 - val_accuracy: 0.7979\n",
      "Epoch 28/50\n",
      "28628/28628 [==============================] - 2s 57us/step - loss: 0.4817 - accuracy: 0.8111 - val_loss: 0.5069 - val_accuracy: 0.8020\n",
      "Epoch 29/50\n",
      "28628/28628 [==============================] - 1s 52us/step - loss: 0.4815 - accuracy: 0.8105 - val_loss: 0.5154 - val_accuracy: 0.8009\n",
      "Epoch 30/50\n",
      "28628/28628 [==============================] - 1s 42us/step - loss: 0.4756 - accuracy: 0.8149 - val_loss: 0.4975 - val_accuracy: 0.8127\n",
      "Epoch 31/50\n",
      "28628/28628 [==============================] - 1s 52us/step - loss: 0.4663 - accuracy: 0.8176 - val_loss: 0.4914 - val_accuracy: 0.8124\n",
      "Epoch 32/50\n",
      "28628/28628 [==============================] - 1s 44us/step - loss: 0.4723 - accuracy: 0.8148 - val_loss: 0.5295 - val_accuracy: 0.8036\n",
      "Epoch 33/50\n",
      "28628/28628 [==============================] - 1s 38us/step - loss: 0.4650 - accuracy: 0.8159 - val_loss: 0.4957 - val_accuracy: 0.8065\n",
      "Epoch 34/50\n",
      "28628/28628 [==============================] - 1s 38us/step - loss: 0.4641 - accuracy: 0.8196 - val_loss: 0.5203 - val_accuracy: 0.7965\n",
      "Epoch 35/50\n",
      "28628/28628 [==============================] - 1s 37us/step - loss: 0.4651 - accuracy: 0.8185 - val_loss: 0.4996 - val_accuracy: 0.8152\n",
      "Epoch 36/50\n",
      "28628/28628 [==============================] - 1s 37us/step - loss: 0.4513 - accuracy: 0.8258 - val_loss: 0.4847 - val_accuracy: 0.8210\n",
      "Epoch 37/50\n",
      "28628/28628 [==============================] - 1s 39us/step - loss: 0.4538 - accuracy: 0.8223 - val_loss: 0.4940 - val_accuracy: 0.8155\n",
      "Epoch 38/50\n",
      "28628/28628 [==============================] - 1s 50us/step - loss: 0.4430 - accuracy: 0.8273 - val_loss: 0.4645 - val_accuracy: 0.8259\n",
      "Epoch 39/50\n",
      "28628/28628 [==============================] - 1s 43us/step - loss: 0.4449 - accuracy: 0.8271 - val_loss: 0.4836 - val_accuracy: 0.8162\n",
      "Epoch 40/50\n",
      "28628/28628 [==============================] - 1s 37us/step - loss: 0.4393 - accuracy: 0.8271 - val_loss: 0.4896 - val_accuracy: 0.8096\n",
      "Epoch 41/50\n",
      "28628/28628 [==============================] - 1s 36us/step - loss: 0.4399 - accuracy: 0.8284 - val_loss: 0.4771 - val_accuracy: 0.8247\n",
      "Epoch 42/50\n",
      "28628/28628 [==============================] - 1s 34us/step - loss: 0.4355 - accuracy: 0.8309 - val_loss: 0.4636 - val_accuracy: 0.8277\n",
      "Epoch 43/50\n",
      "28628/28628 [==============================] - 1s 33us/step - loss: 0.4310 - accuracy: 0.8339 - val_loss: 0.4857 - val_accuracy: 0.8170\n",
      "Epoch 44/50\n",
      "28628/28628 [==============================] - 1s 31us/step - loss: 0.4316 - accuracy: 0.8329 - val_loss: 0.4699 - val_accuracy: 0.8244\n",
      "Epoch 45/50\n",
      "28628/28628 [==============================] - 1s 36us/step - loss: 0.4253 - accuracy: 0.8333 - val_loss: 0.4624 - val_accuracy: 0.8328\n",
      "Epoch 46/50\n",
      "28628/28628 [==============================] - 1s 35us/step - loss: 0.4259 - accuracy: 0.8347 - val_loss: 0.4693 - val_accuracy: 0.8213\n",
      "Epoch 47/50\n",
      "28628/28628 [==============================] - 1s 35us/step - loss: 0.4277 - accuracy: 0.8336 - val_loss: 0.4526 - val_accuracy: 0.8306\n",
      "Epoch 48/50\n",
      "28628/28628 [==============================] - 1s 36us/step - loss: 0.4212 - accuracy: 0.8362 - val_loss: 0.4626 - val_accuracy: 0.8272\n",
      "Epoch 49/50\n",
      "28628/28628 [==============================] - 1s 35us/step - loss: 0.4183 - accuracy: 0.8393 - val_loss: 0.4579 - val_accuracy: 0.8319\n",
      "Epoch 50/50\n",
      "28628/28628 [==============================] - 1s 35us/step - loss: 0.4172 - accuracy: 0.8369 - val_loss: 0.5152 - val_accuracy: 0.8077\n"
     ]
    },
    {
     "data": {
      "text/plain": [
       "<keras.callbacks.callbacks.History at 0x278d3c8d6c8>"
      ]
     },
     "execution_count": 14,
     "metadata": {},
     "output_type": "execute_result"
    }
   ],
   "source": [
    "model.fit(X_train,np_utils.to_categorical(y_train),epochs = 50,validation_split=0.3, batch_size = 128)"
   ]
  },
  {
   "cell_type": "code",
   "execution_count": 15,
   "metadata": {},
   "outputs": [],
   "source": [
    "y_pred = model.predict(X_test)"
   ]
  },
  {
   "cell_type": "code",
   "execution_count": 16,
   "metadata": {},
   "outputs": [],
   "source": [
    "predicted = np.argmax(y_pred, axis=1)"
   ]
  },
  {
   "cell_type": "code",
   "execution_count": 17,
   "metadata": {},
   "outputs": [
    {
     "name": "stdout",
     "output_type": "stream",
     "text": [
      "0.8114134819922247\n"
     ]
    }
   ],
   "source": [
    "from sklearn.metrics import classification_report\n",
    "print(accuracy_score(y_test,predicted))"
   ]
  },
  {
   "cell_type": "code",
   "execution_count": 18,
   "metadata": {},
   "outputs": [
    {
     "name": "stdout",
     "output_type": "stream",
     "text": [
      "              precision    recall  f1-score   support\n",
      "\n",
      "      Benign       0.84      0.96      0.89      2735\n",
      "  Defacement       0.76      0.67      0.71      2499\n",
      "     Malware       0.78      0.88      0.83      2834\n",
      "    Phishing       0.74      0.75      0.75      2477\n",
      "        Spam       0.93      0.78      0.85      3088\n",
      "\n",
      "    accuracy                           0.81     13633\n",
      "   macro avg       0.81      0.81      0.81     13633\n",
      "weighted avg       0.81      0.81      0.81     13633\n",
      "\n"
     ]
    }
   ],
   "source": [
    "target_names = ['Benign','Defacement','Malware','Phishing','Spam']\n",
    "print(classification_report(y_test, predicted, target_names=target_names))"
   ]
  },
  {
   "cell_type": "code",
   "execution_count": 19,
   "metadata": {},
   "outputs": [],
   "source": [
    "os.chdir(\"../\")\n",
    "os.chdir(\"models\")\n",
    "model.save(\"Model_v2.h5\")\n",
    "np.save('lblenc_v1.npy', encoder.classes_)\n",
    "scalerfile = 'scaler_v1.sav'\n",
    "pickle.dump(scaler, open(scalerfile, 'wb'))"
   ]
  },
  {
   "cell_type": "code",
   "execution_count": 24,
   "metadata": {},
   "outputs": [],
   "source": [
    "import pathlib"
   ]
  },
  {
   "cell_type": "code",
   "execution_count": 21,
   "metadata": {},
   "outputs": [
    {
     "data": {
      "text/plain": [
       "200608"
      ]
     },
     "execution_count": 21,
     "metadata": {},
     "output_type": "execute_result"
    }
   ],
   "source": [
    "\n",
    "model = ts.keras.models.load_model('Model_v2.h5')\n",
    "converter = ts.lite.TFLiteConverter.from_keras_model(model)\n",
    "tflite_model = converter.convert()\n",
    "open(\"tflite_model.tflite\", \"wb\").write(tflite_model)"
   ]
  },
  {
   "cell_type": "code",
   "execution_count": 23,
   "metadata": {},
   "outputs": [],
   "source": [
    "model = ts.keras.models.load_model('Model_v2.h5')\n",
    "converter = ts.lite.TFLiteConverter.from_keras_model(model)\n",
    "converter.optimizations = [ts.lite.Optimize.DEFAULT]\n",
    "tflite_quant_model = converter.convert()"
   ]
  },
  {
   "cell_type": "code",
   "execution_count": 25,
   "metadata": {},
   "outputs": [
    {
     "data": {
      "text/plain": [
       "55552"
      ]
     },
     "execution_count": 25,
     "metadata": {},
     "output_type": "execute_result"
    }
   ],
   "source": [
    "tflite_model_file = pathlib.Path('tflite_quant_model.tflite')\n",
    "tflite_model_file.write_bytes(tflite_quant_model)"
   ]
  },
  {
   "cell_type": "code",
   "execution_count": null,
   "metadata": {},
   "outputs": [],
   "source": []
  }
 ],
 "metadata": {
  "kernelspec": {
   "display_name": "tf_gpu",
   "language": "python",
   "name": "tf_gpu"
  },
  "language_info": {
   "codemirror_mode": {
    "name": "ipython",
    "version": 3
   },
   "file_extension": ".py",
   "mimetype": "text/x-python",
   "name": "python",
   "nbconvert_exporter": "python",
   "pygments_lexer": "ipython3",
   "version": "3.9.7"
  },
  "toc": {
   "base_numbering": 1,
   "nav_menu": {},
   "number_sections": false,
   "sideBar": false,
   "skip_h1_title": false,
   "title_cell": "Table of Contents",
   "title_sidebar": "Contents",
   "toc_cell": false,
   "toc_position": {},
   "toc_section_display": false,
   "toc_window_display": false
  }
 },
 "nbformat": 4,
 "nbformat_minor": 5
}
